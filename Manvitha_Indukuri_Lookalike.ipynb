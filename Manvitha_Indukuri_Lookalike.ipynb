{
  "nbformat": 4,
  "nbformat_minor": 0,
  "metadata": {
    "colab": {
      "provenance": [],
      "authorship_tag": "ABX9TyMK140MTK9YXPU2hH+MSTz/",
      "include_colab_link": true
    },
    "kernelspec": {
      "name": "python3",
      "display_name": "Python 3"
    },
    "language_info": {
      "name": "python"
    }
  },
  "cells": [
    {
      "cell_type": "markdown",
      "metadata": {
        "id": "view-in-github",
        "colab_type": "text"
      },
      "source": [
        "<a href=\"https://colab.research.google.com/github/ManvithaReddy1133/ecommerce-data-science/blob/main/Manvitha_Indukuri_Lookalike.ipynb\" target=\"_parent\"><img src=\"https://colab.research.google.com/assets/colab-badge.svg\" alt=\"Open In Colab\"/></a>"
      ]
    },
    {
      "cell_type": "code",
      "source": [
        "merged_data = transactions.merge(customers, on='CustomerID').merge(products, on='ProductID')"
      ],
      "metadata": {
        "id": "VbTP0YrQG4Kf"
      },
      "execution_count": 6,
      "outputs": []
    },
    {
      "cell_type": "code",
      "source": [
        "import pandas as pd\n",
        "customers = pd.read_csv('Customers.csv')\n",
        "products = pd.read_csv('Products.csv')\n",
        "transactions = pd.read_csv('Transactions.csv')"
      ],
      "metadata": {
        "id": "cjzQjVP1HLTZ"
      },
      "execution_count": 5,
      "outputs": []
    },
    {
      "cell_type": "code",
      "source": [
        "customer_features = merged_data.groupby('CustomerID').agg({\n",
        "    'TotalValue': 'sum',\n",
        "    'Quantity': 'sum',\n",
        "    'Category': 'nunique'\n",
        "}).reset_index()\n",
        "\n",
        "# Rename columns for clarity\n",
        "customer_features.rename(columns={'Category': 'UniqueCategories'}, inplace=True)\n"
      ],
      "metadata": {
        "id": "YEWY9pOLIOBe"
      },
      "execution_count": 11,
      "outputs": []
    },
    {
      "cell_type": "code",
      "source": [
        "from sklearn.preprocessing import StandardScaler\n",
        "\n",
        "scaler = StandardScaler()\n",
        "features_scaled = scaler.fit_transform(customer_features.iloc[:, 1:])\n"
      ],
      "metadata": {
        "id": "F0tVSPQBIW-w"
      },
      "execution_count": 12,
      "outputs": []
    },
    {
      "cell_type": "code",
      "source": [],
      "metadata": {
        "id": "yQaT0WAXWGBu"
      },
      "execution_count": null,
      "outputs": []
    },
    {
      "cell_type": "code",
      "source": [
        "from sklearn.neighbors import NearestNeighbors\n",
        "\n",
        "# Initialize and train the model\n",
        "model = NearestNeighbors(n_neighbors=4, metric='cosine')\n",
        "model.fit(features_scaled)\n",
        "\n",
        "# Find nearest neighbors\n",
        "distances, indices = model.kneighbors(features_scaled)\n"
      ],
      "metadata": {
        "id": "RdgVk74BIYf_"
      },
      "execution_count": 13,
      "outputs": []
    },
    {
      "cell_type": "code",
      "source": [
        "# Prepare recommendations\n",
        "recommendations = {}\n",
        "\n",
        "for i, customer_id in enumerate(customer_features['CustomerID']):\n",
        "    similar_customers = [\n",
        "        (customer_features['CustomerID'][indices[i][j]], 1 - distances[i][j])\n",
        "        for j in range(1, 4)  # Skip self (first neighbor)\n",
        "    ]\n",
        "    recommendations[customer_id] = similar_customers\n"
      ],
      "metadata": {
        "id": "W0JTbVrfIceL"
      },
      "execution_count": 14,
      "outputs": []
    },
    {
      "cell_type": "code",
      "source": [
        "# Save recommendations to CSV\n",
        "import csv\n",
        "\n",
        "output_file = 'Lookalike.csv'\n",
        "\n",
        "with open(output_file, 'w', newline='') as file:\n",
        "    writer = csv.writer(file)\n",
        "    writer.writerow(['CustomerID', 'SimilarCustomers'])\n",
        "\n",
        "    for customer, similar_list in recommendations.items():\n",
        "        similar_str = \"; \".join([f\"{sim[0]}:{sim[1]:.4f}\" for sim in similar_list])\n",
        "        writer.writerow([customer, similar_str])\n",
        "\n",
        "print(f'Recommendations saved to {output_file}')\n"
      ],
      "metadata": {
        "colab": {
          "base_uri": "https://localhost:8080/"
        },
        "id": "4YbLqDh-IfS3",
        "outputId": "a037d693-cfe6-4d07-969d-56d0d3793933"
      },
      "execution_count": 15,
      "outputs": [
        {
          "output_type": "stream",
          "name": "stdout",
          "text": [
            "Recommendations saved to Lookalike.csv\n"
          ]
        }
      ]
    }
  ]
}